{
 "cells": [
  {
   "cell_type": "code",
   "execution_count": 1,
   "id": "medical-storm",
   "metadata": {},
   "outputs": [
    {
     "name": "stdout",
     "output_type": "stream",
     "text": [
      "Hello World\n"
     ]
    }
   ],
   "source": [
    "print(\"Hello World\")"
   ]
  },
  {
   "cell_type": "markdown",
   "id": "dangerous-secondary",
   "metadata": {},
   "source": [
    "print(\"Hello World\")"
   ]
  },
  {
   "cell_type": "code",
   "execution_count": 2,
   "id": "fitting-spectrum",
   "metadata": {},
   "outputs": [
    {
     "name": "stdout",
     "output_type": "stream",
     "text": [
      "red\n",
      "yellow\n",
      "blue\n"
     ]
    }
   ],
   "source": [
    "colors = [\"red\", \"yellow\", \"blue\"]\n",
    "for c in colors:\n",
    "    print(c)"
   ]
  },
  {
   "cell_type": "markdown",
   "id": "micro-place",
   "metadata": {},
   "source": [
    "# Wow heading very cool"
   ]
  },
  {
   "cell_type": "code",
   "execution_count": 5,
   "id": "similar-fabric",
   "metadata": {},
   "outputs": [
    {
     "name": "stdout",
     "output_type": "stream",
     "text": [
      "my cat\n"
     ]
    }
   ],
   "source": [
    "cats = []\n",
    "cats.append(\"my cat\")\n",
    "print(cats[0])"
   ]
  },
  {
   "cell_type": "markdown",
   "id": "considered-teach",
   "metadata": {},
   "source": [
    "i have eaten\n",
    "\n",
    "all the food\n",
    "\n",
    "in my bowl\n",
    "\n",
    "*meow*\n",
    "\n",
    "**meow**\n",
    "\n",
    "### ***meow***"
   ]
  },
  {
   "cell_type": "code",
   "execution_count": null,
   "id": "presidential-exploration",
   "metadata": {},
   "outputs": [
    {
     "name": "stdout",
     "output_type": "stream",
     "text": [
      "what's your cat's name?\n"
     ]
    }
   ],
   "source": [
    "print(\"what\\'s your cat\\'s name?\")\n",
    "name = input()\n",
    "print(name, \"what a cute name!\")"
   ]
  },
  {
   "cell_type": "markdown",
   "id": "legitimate-hydrogen",
   "metadata": {},
   "source": [
    "1. 🐈\n",
    "---\n",
    "## 2. 🐱\n",
    "# 3. 😼"
   ]
  },
  {
   "cell_type": "code",
   "execution_count": null,
   "id": "alpha-inspiration",
   "metadata": {},
   "outputs": [],
   "source": []
  }
 ],
 "metadata": {
  "kernelspec": {
   "display_name": "Python 3",
   "language": "python",
   "name": "python3"
  },
  "language_info": {
   "codemirror_mode": {
    "name": "ipython",
    "version": 3
   },
   "file_extension": ".py",
   "mimetype": "text/x-python",
   "name": "python",
   "nbconvert_exporter": "python",
   "pygments_lexer": "ipython3",
   "version": "3.8.5"
  }
 },
 "nbformat": 4,
 "nbformat_minor": 5
}
